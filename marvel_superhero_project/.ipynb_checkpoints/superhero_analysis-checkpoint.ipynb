{
 "cells": [
  {
   "cell_type": "markdown",
   "metadata": {},
   "source": [
    "# Marvel Superhero Analysis"
   ]
  },
  {
   "cell_type": "markdown",
   "metadata": {},
   "source": [
    "**Scraping from the Wikipedia API to Understand the History and Breakdown of Marvel Superheroes**\n",
    "\n",
    "*A project by Gerard Goucher*"
   ]
  },
  {
   "cell_type": "markdown",
   "metadata": {},
   "source": [
    "**Please run the following code beforehand** in your terminal to ensure all necessary Python modules are installed on your computer."
   ]
  },
  {
   "cell_type": "code",
   "execution_count": null,
   "metadata": {},
   "outputs": [],
   "source": [
    "pip install -r requirements.txt"
   ]
  },
  {
   "cell_type": "markdown",
   "metadata": {},
   "source": [
    "####  Part 1: Collecting Basic Statistics \n",
    "\n",
    "In order to properly analyze trends regarding Marvel Superheroes and Supervillains, we must first generate lists of all of them. \n",
    ">*Note: Some characters aren't so clearly defined by their hero or villain statuses. Generally, this is because at some point or another, they have switched roles. We will make determinations regarding their statuses in **Part 4**.*"
   ]
  },
  {
   "cell_type": "code",
   "execution_count": 1,
   "metadata": {},
   "outputs": [
    {
     "name": "stdout",
     "output_type": "stream",
     "text": [
      "There are 1034 supervillains in the Marvel universe.\n",
      "There are 789 superheroes in the Marvel universe.\n",
      "There are 146 overlapping (ambiguous) characters.\n",
      "The Jaccard Index is 0.08706022659511031\n"
     ]
    }
   ],
   "source": [
    "import json\n",
    "import requests as rq\n",
    "\n",
    "def get_data(link): #\n",
    "    '''\n",
    "    This function recursively goes through the data of each page of a category, finding the cmcontinue value.\n",
    "    I utilize recursion to ensure all pages of a category list are ran through.\n",
    "    The formatting requested of the Wikipedia API will be detailed below.\n",
    "    '''\n",
    "    data = rq.get(link).json()\n",
    "    if 'continue' in data:\n",
    "        return data['query']['categorymembers'] + get_data(link + '&cmcontinue=' + data['continue']['cmcontinue'])\n",
    "    else:\n",
    "        return data['query']['categorymembers']\n",
    "  \n",
    "\n",
    "def name_generator(link):\n",
    "    '''\n",
    "    This function takes the data from the category pages we scraped from and cleans it up slightly, ensuring that\n",
    "    we're only including information on cahracters and not inaccurately looking at other category or list pages.\n",
    "    '''\n",
    "    data = get_data(link)\n",
    "    final_list = []\n",
    "    for i in range(len(data)):\n",
    "        if 'category' not in data[i]['title'].lower() and 'list' not in data[i]['title'].lower():\n",
    "            final_list.append(data[i]['title'])\n",
    "    return final_list\n",
    "\n",
    "\n",
    "'''\n",
    "Below, we see the function calls to get our list of heroes and villains. \n",
    "We see the requests made of the API, which I will break down now.\n",
    "\n",
    "format = json - The JSON format is chosen in order for us to be able to parse through the data more easily. \n",
    "Key, value pairs are easy to look through with Python.\n",
    "\n",
    "action = query - Allows us to access data from the API\n",
    "\n",
    "cmtitle = ... - Used to open category page.\n",
    "\n",
    "cmlimit = max - Set to max so we have to run the get_data function as little as possible\n",
    "\n",
    "list = categorymembers - Returns data points that contain the individual page titles within a category, giving us the names of superheroes.\n",
    "'''\n",
    "\n",
    "\n",
    "villain_list = name_generator(\"https://en.wikipedia.org/w/api.php?format=json&action=query&cmtitle=Category:Marvel_Comics_supervillains&cmlimit=max&list=categorymembers\")\n",
    "hero_list = name_generator(\"https://en.wikipedia.org/w/api.php?format=json&action=query&cmtitle=Category:Marvel_Comics_superheroes&cmlimit=max&list=categorymembers\")\n",
    "        \n",
    "print('There are ' + str(len(villain_list)) + ' supervillains in the Marvel universe.')\n",
    "print('There are ' + str(len(hero_list)) + ' superheroes in the Marvel universe.')\n",
    "\n",
    "\n",
    "# Determining the amount of overlap\n",
    "\n",
    "total_number = set(hero_list) | set(villain_list) # Creates a set containing aggregate amount of marvel characters.\n",
    "\n",
    "shared_characters = len(hero_list) + len(villain_list) - len(total_number) # Determines the overlap between the two, or the ambiguous charcters.\n",
    "print('There are ' + str(shared_characters) + ' overlapping (ambiguous) characters.')\n",
    "\n",
    "\n",
    "'''\n",
    "The following calculation finds amount of overlap/amount of union. \n",
    "This returns the Jaccard Index, or the the coefficient of ambiguyous characters.\n",
    "''' \n",
    "jac_similarity = shared_characters / len(total_number) \n",
    "print(\"The Jaccard Index is \" + str(jac_similarity))"
   ]
  },
  {
   "cell_type": "markdown",
   "metadata": {},
   "source": [
    "#### Part 2: Storing Data\n",
    "\n",
    "Since there are obviously huge amounts of supervillains and superheroes, it is necessary to run the following code to store markups on your hard drive instead of on the the RAM. This data will be stored in subdirectories in your current working directory. "
   ]
  },
  {
   "cell_type": "code",
   "execution_count": 2,
   "metadata": {},
   "outputs": [
    {
     "name": "stdout",
     "output_type": "stream",
     "text": [
      "Directory /Users/gerardgoucher/Desktop/marvel_superhero_project/marvel_markups already exists. \n",
      "\n",
      "Directory /Users/gerardgoucher/Desktop/marvel_superhero_project/marvel_markups/heroes already exists. \n",
      "\n",
      "Directory /Users/gerardgoucher/Desktop/marvel_superhero_project/marvel_markups/villains already exists. \n",
      "\n",
      "Directory /Users/gerardgoucher/Desktop/marvel_superhero_project/marvel_markups/ambiguous already exists. \n",
      "\n"
     ]
    }
   ],
   "source": [
    "import os\n",
    "\n",
    "path = os.getcwd()\n",
    "\n",
    "def new_directory(new_directory, desired_path):\n",
    "    '''This function easily creates new directories'''\n",
    "    new_path = '/' + new_directory\n",
    "    try:\n",
    "        os.mkdir(desired_path + new_path)\n",
    "    except FileExistsError:\n",
    "        print(\"Directory %s already exists. \\n\" % (desired_path + new_path))\n",
    "    except OSError:\n",
    "        print(\"New directory creation for %s failed. \\n\" % (desired_path + new_path))\n",
    "    else:\n",
    "        print(\"Created new directory %s. \\n\" % (desired_path + new_path))\n",
    "\n",
    "        \n",
    "        \n",
    "new_directory('marvel_markups', path) #Creates parents folder for subdirectories\n",
    "\n",
    "parent_directory = path + '/marvel_markups'\n",
    "\n",
    "\n",
    "## Creates subdirectories\n",
    "new_directory('heroes', parent_directory)\n",
    "new_directory('villains', parent_directory)\n",
    "new_directory('ambiguous', parent_directory)"
   ]
  },
  {
   "cell_type": "markdown",
   "metadata": {},
   "source": [
    "The following code extracts each character's markup into their relevant subdirectors. \n",
    "> **NOTE: THIS WILL TAKE A LONG TIME TO RUN**"
   ]
  },
  {
   "cell_type": "code",
   "execution_count": 3,
   "metadata": {},
   "outputs": [
    {
     "name": "stdout",
     "output_type": "stream",
     "text": [
      "Files Written!\n"
     ]
    }
   ],
   "source": [
    "#Now, we extract the markups into our new subdirectories\n",
    "\n",
    "'''\n",
    "The following code finds the total list of characters from the union of sets of heroes and villains above.\n",
    "Additionally, we sort the characters for neatness.\n",
    "'''\n",
    "total_list = list(total_number)\n",
    "total_list.sort()\n",
    "\n",
    "#The following is the function that will extract the markup\n",
    "\n",
    "\n",
    "os.chdir(parent_directory)\n",
    "\n",
    "\n",
    "def markup_extraction(name):\n",
    "    '''\n",
    "    This function finds the markup for an individual character. \n",
    "    '''\n",
    "    if os.path.exists(name + '.txt') is False:\n",
    "        #The following step is necessary to get us to use the latest page revision\n",
    "        page_id_source = rq.get('https://en.wikipedia.org/w/api.php?format=json&action=parse&page=' + name).json()\n",
    "        page_id = page_id_source['parse']['pageid']\n",
    "        #Using the Page ID, we are able to find the markup for the page and download it.\n",
    "        #The following API request is altered for each individual charcter rather than the category lists.\n",
    "        imp = rq.get('https://en.wikipedia.org/w/api.php?format=json&action=query&titles=' + name + '&prop=revisions&rvprop=content').json()\n",
    "        to_write = imp['query']['pages'][str(page_id)]['revisions'][0]['*']\n",
    "        #The following steps write the new files\n",
    "        page = open(name + \".txt\", \"w+\")\n",
    "        page.write(to_write)\n",
    "        page.close()\n",
    "\n",
    "        \n",
    "def write_files(list):\n",
    "    for i in range(len(list)):\n",
    "        #The following step is done in order for the names to be inputted into the directory.\n",
    "        if ' / ' in total_list[i]:\n",
    "            total_list[i] = total_list[i].replace(' / ','_')\n",
    "            \n",
    "        if list[i] in hero_list and list[i] in villain_list:\n",
    "            os.chdir(parent_directory + '/ambiguous')\n",
    "            markup_extraction(list[i])\n",
    "        elif list[i] in hero_list:\n",
    "            os.chdir(parent_directory + '/heroes')\n",
    "            markup_extraction(list[i])\n",
    "        elif list[i] in villain_list:\n",
    "            os.chdir(parent_directory + '/villains') \n",
    "            markup_extraction(list[i])\n",
    "    print(\"Files Written!\")\n",
    "\n",
    "# NOTE - THIS WILL TAKE A VERY LONG TIME TO RUN\n",
    "write_files(total_list)\n",
    "\n",
    "\n",
    "\n",
    "os.chdir(parent_directory)"
   ]
  },
  {
   "cell_type": "markdown",
   "metadata": {},
   "source": [
    "#### Part 3: Data Visualization and Exploration"
   ]
  },
  {
   "cell_type": "markdown",
   "metadata": {},
   "source": [
    "Now that we have taken all of our data from the Wikipedia API and have sufficiently cleaned it, we will explore it more using some visualization tools. First, we will be creating a PMF of page lengths for each subcategory via a histrogram."
   ]
  },
  {
   "cell_type": "markdown",
   "metadata": {},
   "source": [
    "The following step allows us to loop through a directory and open all the text files \n",
    "and finds the length of each. This will be useful for future analysis."
   ]
  },
  {
   "cell_type": "code",
   "execution_count": 4,
   "metadata": {},
   "outputs": [],
   "source": [
    "def page_lengths(pathname):\n",
    "    '''This function loops through each of the files in a folder containing text files and finds their legnths'''\n",
    "    output_list = []\n",
    "    nameless_lengths = []\n",
    "    \n",
    "    character_list = os.listdir(pathname)\n",
    "    os.chdir(pathname)\n",
    "    for i in range(len(character_list)):\n",
    "        page = open(character_list[i]).read()\n",
    "        length = len(str(page))\n",
    "        # since the .txt extension is included, we slice off the ends\n",
    "        output_list.append((character_list[i][:-4], length))\n",
    "        #for our next histogram\n",
    "        nameless_lengths.append(length)\n",
    "        \n",
    "    return (output_list, nameless_lengths)\n",
    "    \n",
    "os.chdir(parent_directory)\n",
    "\n",
    "villain_length = page_lengths(parent_directory + '/villains')\n",
    "ambiguous_length = page_lengths(parent_directory + '/ambiguous')\n",
    "heroes_length = page_lengths(parent_directory + '/heroes')"
   ]
  },
  {
   "cell_type": "markdown",
   "metadata": {},
   "source": [
    "Now, we will compare page lengths between the three categories of marvel characters. This should offer some interesting trends to analyze. "
   ]
  },
  {
   "cell_type": "code",
   "execution_count": 6,
   "metadata": {},
   "outputs": [
    {
     "data": {
      "text/plain": [
       "Text(0.5, 0, 'Page Length')"
      ]
     },
     "execution_count": 6,
     "metadata": {},
     "output_type": "execute_result"
    },
    {
     "data": {
      "image/png": "[encoded data removed]",
      "text/plain": [
       "<Figure size 1080x360 with 3 Axes>"
      ]
     },
     "metadata": {
      "needs_background": "light"
     },
     "output_type": "display_data"
    }
   ],
   "source": [
    "import matplotlib.pyplot as plt\n",
    "\n",
    "fig, (axs1, axs2, axs3) = plt.subplots(1, 3) #I created a 3 histograms side by side to visualize the density of page lengths.\n",
    "fig.set_size_inches(15, 5)\n",
    "fig.suptitle(\"Page Length Distributions\")\n",
    "axs1.hist(ambiguous_length[1],density=True,bins=20)\n",
    "axs1.set_title(\"Ambiguous\")\n",
    "axs1.set(xlim=(-1000, 150000), ylim=(0, .00007))\n",
    "axs1.tick_params(labelsize=7)\n",
    "axs1.set_xlabel(\"Page Length\")\n",
    "\n",
    "axs2.hist(heroes_length[1],density=True,bins=20,color='green')\n",
    "axs2.set_title(\"Heroes\")\n",
    "axs2.set(xlim=(-1000, 150000), ylim=(0, .00007))\n",
    "axs2.tick_params(labelsize=7)\n",
    "axs2.set_xlabel(\"Page Length\")\n",
    "\n",
    "axs3.hist(villain_length[1],density=True,bins=20,color='orange')\n",
    "axs3.set_title(\"Villains\")\n",
    "axs3.set(xlim=(-1000, 150000), ylim=(0, .00007))\n",
    "axs3.tick_params(labelsize=7)\n",
    "axs3.set_xlabel(\"Page Length\")\n"
   ]
  },
  {
   "cell_type": "markdown",
   "metadata": {},
   "source": [
    "Looking at the histograms above, we can notive some interesting trends. The hero markups are, in general, longer than the villain markups. When thinking about the films or comics, this makes sense given the commonly one-dimensional stories of villains. The ambiguous markups, however, aren't so easily differentiated. This makes sense, given their questionable defintions."
   ]
  },
  {
   "cell_type": "markdown",
   "metadata": {},
   "source": [
    "Now, we will look at the timelines of these characters debuts, hoping to gain some insight about Marvel comics over time. We will use the regular expression module to do this."
   ]
  },
  {
   "cell_type": "code",
   "execution_count": 7,
   "metadata": {},
   "outputs": [],
   "source": [
    "import re\n",
    "\n",
    "def page_debuts(pathname): # similar to the page_lengths function above, just adjusted for RE usage to find debuts.\n",
    "    '''This function loops through each of the files in a folder containing text files and finds their debuts'''\n",
    "    output_debuts = {}\n",
    "    nameless_debuts = []\n",
    "    \n",
    "    character_list = os.listdir(pathname)\n",
    "    os.chdir(pathname)\n",
    "    for i in range(len(character_list)):\n",
    "        page = open(character_list[i]).read()\n",
    "        try:\n",
    "            '''\n",
    "            The regular expressions function below works in a variety of ways.\n",
    "            \n",
    "            Looking at the nested findall call within the other findall call, we see that\n",
    "            I am first looking for a line with the word \"debut\" in it, then choosing the first line\n",
    "            (since debut information is early in the wikipedia markup). Then, we apply the findall\n",
    "            function AGAIN on this line that we've found. the \\d{4}\\ finds 4 digit numbers\n",
    "            in this new line, and we choose the first output here (an arbitrary choice), as there\n",
    "            can be multiple depending on whether or not these characters are in comics, films, or other mediums.\n",
    "            Then, the result is taken as an integer, so that it is easier to visualize later.\n",
    "            '''\n",
    "            debut = int(re.findall(r\"\\d{4}\\)\", re.findall(r\"debut.+?\\n\", page)[0])[0][:-1])\n",
    "        #some debuts aren't included in a characters markup, we will choose to not include them in our visualization.\n",
    "        except: \n",
    "            debut = 'none'\n",
    "        if debut != 'none':   \n",
    "            # since the .txt extension is included, we slice off the ends\n",
    "            output_debuts[character_list[i][:-4]] = debut\n",
    "            #for our next histogram\n",
    "            nameless_debuts.append(debut)\n",
    "        \n",
    "    return (output_debuts, nameless_debuts)\n",
    "\n",
    "villain_debuts = page_debuts(parent_directory + '/villains')\n",
    "ambiguous_debuts = page_debuts(parent_directory + '/ambiguous')\n",
    "heroes_debuts = page_debuts(parent_directory + '/heroes')\n",
    "    \n",
    "os.chdir(parent_directory)"
   ]
  },
  {
   "cell_type": "markdown",
   "metadata": {},
   "source": [
    "Now, we will compare debut years between the three categories of marvel characters. This should offer some interesting trends to analyze. "
   ]
  },
  {
   "cell_type": "code",
   "execution_count": 8,
   "metadata": {},
   "outputs": [
    {
     "data": {
      "text/plain": [
       "Text(0.5, 0, 'Years')"
      ]
     },
     "execution_count": 8,
     "metadata": {},
     "output_type": "execute_result"
    },
    {
     "data": {
      "image/png": "[encoded data removed]",
      "text/plain": [
       "<Figure size 1080x360 with 3 Axes>"
      ]
     },
     "metadata": {
      "needs_background": "light"
     },
     "output_type": "display_data"
    }
   ],
   "source": [
    "import numpy as np\n",
    "\n",
    "fig, (axs1, axs2, axs3) = plt.subplots(1, 3) #I created a 3 histograms side by side to visualize the debuts.\n",
    "fig.set_size_inches(15, 5)\n",
    "fig.suptitle(\"Debuts Over the Years\")\n",
    "axs1.hist(ambiguous_debuts[1],density=True)\n",
    "axs1.set_title(\"Ambiguous\")\n",
    "axs1.set(xlim=(1930, 2020), ylim=(0, .03)) # axes set for all 3 to normalize\n",
    "axs1.set_xlabel(\"Years\")\n",
    "\n",
    "axs2.hist(heroes_debuts[1],density=True,color='green')\n",
    "axs2.set_title(\"Heroes\")\n",
    "axs2.set(xlim=(1930, 2020), ylim=(0, .03))\n",
    "axs2.set_xlabel(\"Years\")\n",
    "\n",
    "axs3.hist(villain_debuts[1],density=True,color='orange')\n",
    "axs3.set_title(\"Villains\")\n",
    "axs3.set(xlim=(1930, 2020), ylim=(0, .03))\n",
    "axs3.set_xlabel(\"Years\")"
   ]
  },
  {
   "cell_type": "markdown",
   "metadata": {},
   "source": [
    "Interestingly, with the above visualizations, we see that a spike in character debuts during and after the 1960s. What's more is that there is a massive spike of villains and ambiguous characters coming out during and after the 1960s, a significant spike considering that this was around the peak of the Cold War. While I am by no means a comic book expert, this is definitely an interesting spike and potentially could explain the rise of these villains. After looking into the history of Marvel as an entity, I learned that this is when what was at the time Atlas Magazines was rebranded to Marvel Comics as we know it today. "
   ]
  },
  {
   "cell_type": "markdown",
   "metadata": {},
   "source": [
    "#### Part 4: Ambiguous Character Predictions"
   ]
  },
  {
   "cell_type": "markdown",
   "metadata": {},
   "source": [
    "Now that we've explored our data a bit, it's clear that a useful application of ML would be to classify our ambiguous characters into hero or villain categories. We will approach this in two ways, first by looking at team alliances and training a Naive Bayes classifier on this information to predict ambiguous character categories. After this, we will do a TF-IDF scoring measure on the text from our character markups to, again, predict ambiguous character categories. "
   ]
  },
  {
   "cell_type": "markdown",
   "metadata": {},
   "source": [
    "First, we are going to make hero or villain predictions based upon team alliances. First, we are going to make a list of all the teams, which will allow us to make an array of team alliances to train our Naive Bayes classifier on."
   ]
  },
  {
   "cell_type": "code",
   "execution_count": 9,
   "metadata": {},
   "outputs": [],
   "source": [
    "#Finds the alliances for all Marvel characters and returns as a list\n",
    "def get_alliances(char, faction=None):\n",
    "    \"\"\"Return list of alliances for Marvel character.\"\"\"\n",
    "    \n",
    "    if faction is None:\n",
    "        for faction in [\"heroes\", \"ambiguous\", \"villains\"]:\n",
    "            faction_chars = [c[:-4] for c in os.listdir(parent_directory + \"/%s\" % faction)]\n",
    "            if char in faction_chars:\n",
    "                break\n",
    "    \n",
    "    # Load character markup\n",
    "    with open(parent_directory + \"/%s/%s.txt\" % (faction, char)) as fp:\n",
    "        markup = fp.read()\n",
    "\n",
    "    # Get alliance field. NOTE: THE FOLLOWING TWO RE COMMANDS HAVE BEEN OBTAINED FROM AN INSTRUCTOR.\n",
    "    alliances_field = re.findall(r\"alliances[\\w\\W]+?\\|.+=\", markup)\n",
    "    if alliances_field == []:\n",
    "        return []\n",
    "\n",
    "    # Extract teams from alliance field\n",
    "    return [t[2:-1] for t in re.findall(r\"\\[\\[.+?[\\]\\|]\", alliances_field[0][10:])]\n",
    "\n",
    "#Making a list of all characters\n",
    "Characters = []\n",
    "\n",
    "for faction in [\"heroes\", \"ambiguous\", \"villains\"]:\n",
    "    faction_chars = [c[:-4] for c in os.listdir(parent_directory + \"/%s\" % faction)]\n",
    "    for char in faction_chars:\n",
    "        Characters.append(char)\n",
    "\n",
    "#Making a list of all Teams\n",
    "Teams = []\n",
    "Teams = set(Teams)\n",
    "for character in Characters:\n",
    "    alliances = get_alliances(character)\n",
    "    for alliance in alliances:\n",
    "        Teams.add(alliance)\n",
    "\n",
    "all_teams = sorted(set(Teams))"
   ]
  },
  {
   "cell_type": "markdown",
   "metadata": {},
   "source": [
    "Now that we have all of our teams, we can loop through our characters and generate an array of character team involvements."
   ]
  },
  {
   "cell_type": "code",
   "execution_count": 13,
   "metadata": {},
   "outputs": [],
   "source": [
    "def vec_Teams(x):\n",
    "    '''Making a list of 0 and 1s to represent individual characters involvement with teams.'''\n",
    "    alliances_vector = []\n",
    "    alliances = get_alliances(x)\n",
    "    for team in all_teams:\n",
    "        if team in alliances:\n",
    "            alliances_vector.append(1)\n",
    "        if team not in alliances:\n",
    "            alliances_vector.append(0)\n",
    "    return alliances_vector\n",
    "\n",
    "length = len(all_teams)\n",
    "\n",
    "\n",
    "#taking out ambiguous characters, this makes it easier for us to create our target array\n",
    "HV = []\n",
    "\n",
    "##need to add the heaores wihtout alliances \n",
    "for faction in [\"heroes\", \"villains\"]:\n",
    "    faction_chars = [c[:-4] for c in os.listdir(parent_directory + \"/%s\" % faction)]\n",
    "    for char in faction_chars:\n",
    "        HV.append(char)\n",
    "\n",
    "#making the team alliance matrix   \n",
    "team_Alliance_Matrix = []\n",
    "for character in HV:\n",
    "    alliance_matrix = vec_Teams(character)\n",
    "    team_Alliance_Matrix.append(alliance_matrix)\n",
    "\n",
    "team_Alliance_Matrix_array = np.array(team_Alliance_Matrix)\n",
    "\n",
    "#making list of heroes, so that we can create our target array. \n",
    "Heroes = []\n",
    "\n",
    "for faction in [\"heroes\"]:\n",
    "    faction_chars = [c[:-4] for c in os.listdir(parent_directory + \"/%s\" % faction)]\n",
    "    for char in faction_chars:\n",
    "        Heroes.append(char)\n",
    "\n",
    "        \n",
    "#making list of ambiguous characters, so we can eventually predict their alliances\n",
    "Ambiguous = []\n",
    "for character in Characters:\n",
    "    if character not in HV:\n",
    "        Ambiguous.append(character)\n",
    "\n",
    "        \n",
    "#making the target array  \n",
    "Target = []\n",
    "HV = sorted(HV)\n",
    "\n",
    "for c in HV:\n",
    "    if c in Heroes: \n",
    "        Target.append(1)\n",
    "    #signifiying villains\n",
    "    else: \n",
    "        Target.append(0)"
   ]
  },
  {
   "cell_type": "markdown",
   "metadata": {},
   "source": [
    "Now that we have our training and target arrays completed, we can set up our Naive bayes classifier. We will utilize a Bernoulli Naive Bayes Classifier, as our data is represented in a binary context. This probabilitistic classifier is useful because it allows us to visualize the level of \"heroness\" that each character possesses, giving us a probability that an ambiguous character is a hero rather than just spitting out that a character is a hero or villain. We will use the binary approach later with the TF-IDF analysis of these characters."
   ]
  },
  {
   "cell_type": "code",
   "execution_count": 67,
   "metadata": {},
   "outputs": [],
   "source": [
    "from sklearn.naive_bayes import BernoulliNB\n",
    "from sklearn.model_selection import train_test_split\n",
    "\n",
    "#Creating our training and testing data\n",
    "X_train, X_test, y_train, y_test = train_test_split(team_Alliance_Matrix_array, Target)\n",
    "\n",
    "#Creating our model\n",
    "model = BernoulliNB()\n",
    "\n",
    "#Fitting model with our training data\n",
    "model.fit(X_train, y_train)\n",
    "\n",
    "#Determining accuracy\n",
    "train_accuracy = model.score(X_train, y_train)\n",
    "test_accuracy = model.score(X_test, y_test)"
   ]
  },
  {
   "cell_type": "code",
   "execution_count": 68,
   "metadata": {},
   "outputs": [
    {
     "name": "stdout",
     "output_type": "stream",
     "text": [
      "The accuracy the model gives us for the training set is 0.6986644407345576.\n",
      "The accuracy the model gives us for the testing set is 0.5675.\n"
     ]
    }
   ],
   "source": [
    "print('The accuracy the model gives us for the training set is %s.' % train_accuracy)\n",
    "print('The accuracy the model gives us for the testing set is %s.' % test_accuracy)"
   ]
  },
  {
   "cell_type": "markdown",
   "metadata": {},
   "source": [
    "Now, we'll use the classifier on our ambiguous data. We'll use the classifier to find probabilities of characters being heros or villains."
   ]
  },
  {
   "cell_type": "code",
   "execution_count": 69,
   "metadata": {},
   "outputs": [],
   "source": [
    "Ambiguous = sorted(Ambiguous)\n",
    "\n",
    "team_Alliance_AmbigMatrix = []\n",
    "\n",
    "for character in Ambiguous:\n",
    "    a_matrix = vec_Teams(character)\n",
    "    team_Alliance_AmbigMatrix.append(a_matrix)\n",
    " \n",
    "team_Alliance_AmbigMatrix = np.array(team_Alliance_AmbigMatrix)\n"
   ]
  },
  {
   "cell_type": "code",
   "execution_count": 70,
   "metadata": {},
   "outputs": [
    {
     "data": {
      "image/png": "[encoded data removed]",
      "text/plain": [
       "<Figure size 432x288 with 1 Axes>"
      ]
     },
     "metadata": {
      "needs_background": "light"
     },
     "output_type": "display_data"
    }
   ],
   "source": [
    "#using the model to estimate the probability that each character is a hero or villian \n",
    "ambig_predict = model.predict_proba(team_Alliance_AmbigMatrix)\n",
    "\n",
    "villian_prob = []\n",
    "hero_prob = []\n",
    "\n",
    "for elem in ambig_predict:\n",
    "    villian_prob.append(elem[0])\n",
    "    hero_prob.append(elem[1])\n",
    "\n",
    "#villian_prob = the probability that each chracter is a villain     \n",
    "#hero_prob = the probability that each chracter is a hero  \n",
    "\n",
    "#visualizing the \"heroness\" distribution for all ambiguous characters \n",
    "plt.hist(hero_prob)\n",
    "plt.title(\"Heroness Distribution for all Ambiguous characters\")\n",
    "plt.xlabel(\"Probability\")\n",
    "plt.show()"
   ]
  },
  {
   "cell_type": "markdown",
   "metadata": {},
   "source": [
    "Looking at the result, we see that this analysis yields a more unsure prediction for ambiguous alliances, as probabilites are clustered in the middle. We will now utilize a TF-IDF analysis and try to see if that will remove some of the ambiguity we've noticed. Additionally, instead of using a Naive Bayes classifier, we will use a LinearSVC classifier. This allows us to utilize the many more features the TF-IDF gives us in a way conceptually similar to line of best fit, called a hyperplane. "
   ]
  },
  {
   "cell_type": "code",
   "execution_count": 55,
   "metadata": {},
   "outputs": [],
   "source": [
    "from sklearn.feature_extraction.text import TfidfVectorizer\n",
    "\n",
    "def tf_transformer(characters):\n",
    "    '''takes data and transformers it along TF-IDF lines for further transformation'''\n",
    "    \n",
    "    tfidf = TfidfVectorizer(sublinear_tf=True, min_df=5, ngram_range=(1, 2), stop_words='english')\n",
    "    \n",
    "    analyze_list = []\n",
    "    types = []\n",
    "    \n",
    "    for character in characters:\n",
    "        if character in Heroes:\n",
    "            with open(parent_directory + \"/heroes/%s.txt\" % character) as fp:\n",
    "                markup = fp.read()\n",
    "            analyze_list.append(markup)\n",
    "            types.append(1)\n",
    "        else:\n",
    "            with open(parent_directory + \"/villains/%s.txt\" % character) as fp:\n",
    "                markup = fp.read()\n",
    "            analyze_list.append(markup)\n",
    "            types.append(0)\n",
    "            \n",
    "    final_features = tfidf.fit_transform(analyze_list).toarray()\n",
    "    \n",
    "    return (final_features, types, tfidf)"
   ]
  },
  {
   "cell_type": "code",
   "execution_count": 57,
   "metadata": {},
   "outputs": [],
   "source": [
    "tf_transformed = tf_transformer(HV)"
   ]
  },
  {
   "cell_type": "code",
   "execution_count": 78,
   "metadata": {},
   "outputs": [],
   "source": [
    "from sklearn.svm import LinearSVC\n",
    "\n",
    "X_train, X_test, y_train, y_test = train_test_split(tf_transformed[0], tf_transformed[1])\n",
    "\n",
    "model = LinearSVC()\n",
    "model.fit(X_train, y_train)\n",
    "train_accuracy = model.score(X_train, y_train)\n",
    "test_accuracy = model.score(X_test, y_test)"
   ]
  },
  {
   "cell_type": "code",
   "execution_count": 79,
   "metadata": {},
   "outputs": [
    {
     "name": "stdout",
     "output_type": "stream",
     "text": [
      "The accuracy the model gives us for the training set is 1.0.\n",
      "The accuracy the model gives us for the testing set is 0.9625.\n"
     ]
    }
   ],
   "source": [
    "print('The accuracy the model gives us for the training set is %s.' % train_accuracy)\n",
    "print('The accuracy the model gives us for the testing set is %s.' % test_accuracy)"
   ]
  },
  {
   "cell_type": "markdown",
   "metadata": {},
   "source": [
    "As we can see, training the LinearSVC classifier on the TF-IDF array gives us incredibly accuracy. We will now apply this model on the ambiguous data."
   ]
  },
  {
   "cell_type": "code",
   "execution_count": 87,
   "metadata": {},
   "outputs": [],
   "source": [
    "def ambig_scores(characters):\n",
    "    '''takes a character list input and returns transformed array to above TF-IDF'''\n",
    "    \n",
    "    to_transform = []\n",
    "    \n",
    "    for character in characters:\n",
    "        with open(parent_directory + \"/ambiguous/%s.txt\" % character) as fp:\n",
    "            markup = fp.read()\n",
    "        to_transform.append(markup)\n",
    "        \n",
    "    transformation = tf_transformed[2].transform(to_transform)\n",
    "    \n",
    "    pred = model.predict(transformation)\n",
    "    \n",
    "    heroes = 0\n",
    "    villains = 0\n",
    "    \n",
    "    for entry in pred:\n",
    "        if entry == 1:\n",
    "            heroes += 1\n",
    "        else:\n",
    "            villains += 1\n",
    "    \n",
    "    return (heroes, villains)"
   ]
  },
  {
   "cell_type": "code",
   "execution_count": 88,
   "metadata": {},
   "outputs": [],
   "source": [
    "ambig_predict = ambig_scores(Ambiguous)"
   ]
  },
  {
   "cell_type": "code",
   "execution_count": 92,
   "metadata": {},
   "outputs": [
    {
     "name": "stdout",
     "output_type": "stream",
     "text": [
      "The LinearSVC model predicts that there are 60 heroes.\n",
      "The LinearSVC model predicts that there are 90 villains.\n"
     ]
    }
   ],
   "source": [
    "print('The LinearSVC model predicts that there are %s heroes.' % ambig_predict[0])\n",
    "print('The LinearSVC model predicts that there are %s villains.' % ambig_predict[1])"
   ]
  },
  {
   "cell_type": "markdown",
   "metadata": {},
   "source": [
    "#### Part 5: Conclusions"
   ]
  },
  {
   "cell_type": "markdown",
   "metadata": {},
   "source": [
    "Notably, we aren't able to find the probabilities of an ambiguous character being a hero or villain using the LinearSVC classifier. In the future, it may be useful to explore other classifiers, ones which don't sacrifice accuracy for being able to show predictions. Additionally, in the future, I would like use the visualization and ML tools utilized above on actual marvel texts and films to try to get directly to the source of information. Furthermore, many of the characters in the marvel universe have been around for a long time, so using data science tools to analyze them over time could be fascinating. "
   ]
  }
 ],
 "metadata": {
  "kernelspec": {
   "display_name": "Python 3",
   "language": "python",
   "name": "python3"
  },
  "language_info": {
   "codemirror_mode": {
    "name": "ipython",
    "version": 3
   },
   "file_extension": ".py",
   "mimetype": "text/x-python",
   "name": "python",
   "nbconvert_exporter": "python",
   "pygments_lexer": "ipython3",
   "version": "3.7.2"
  }
 },
 "nbformat": 4,
 "nbformat_minor": 2
}
